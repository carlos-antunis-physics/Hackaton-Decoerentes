{
  "nbformat": 4,
  "nbformat_minor": 0,
  "metadata": {
    "colab": {
      "provenance": []
    },
    "kernelspec": {
      "name": "python3",
      "display_name": "Python 3"
    },
    "language_info": {
      "name": "python"
    }
  },
  "cells": [
    {
      "cell_type": "markdown",
      "source": [
        "# Decoerentes' solution to the second question of quantum chemistry\n",
        "\n",
        "Decoerentes' team - Alisson, Bruno, Carlos, Gabriel, Miguel and Paulo"
      ],
      "metadata": {
        "id": "Tujtjx7ozoOs"
      }
    },
    {
      "cell_type": "code",
      "execution_count": null,
      "metadata": {
        "colab": {
          "base_uri": "https://localhost:8080/"
        },
        "id": "Mi8cjfmm7OtE",
        "outputId": "8701961f-53b4-424a-a6ba-830011b3ff80"
      },
      "outputs": [
        {
          "output_type": "stream",
          "name": "stdout",
          "text": [
            "Collecting pennylane\n",
            "  Downloading PennyLane-0.38.0-py3-none-any.whl.metadata (9.3 kB)\n",
            "Requirement already satisfied: numpy<2.0 in /usr/local/lib/python3.10/dist-packages (from pennylane) (1.26.4)\n",
            "Requirement already satisfied: scipy in /usr/local/lib/python3.10/dist-packages (from pennylane) (1.13.1)\n",
            "Requirement already satisfied: networkx in /usr/local/lib/python3.10/dist-packages (from pennylane) (3.4)\n",
            "Collecting rustworkx>=0.14.0 (from pennylane)\n",
            "  Downloading rustworkx-0.15.1-cp38-abi3-manylinux_2_17_x86_64.manylinux2014_x86_64.whl.metadata (9.9 kB)\n",
            "Requirement already satisfied: autograd in /usr/local/lib/python3.10/dist-packages (from pennylane) (1.7.0)\n",
            "Requirement already satisfied: toml in /usr/local/lib/python3.10/dist-packages (from pennylane) (0.10.2)\n",
            "Collecting appdirs (from pennylane)\n",
            "  Downloading appdirs-1.4.4-py2.py3-none-any.whl.metadata (9.0 kB)\n",
            "Collecting autoray>=0.6.11 (from pennylane)\n",
            "  Downloading autoray-0.6.12-py3-none-any.whl.metadata (5.7 kB)\n",
            "Requirement already satisfied: cachetools in /usr/local/lib/python3.10/dist-packages (from pennylane) (5.5.0)\n",
            "Collecting pennylane-lightning>=0.38 (from pennylane)\n",
            "  Downloading PennyLane_Lightning-0.38.0-cp310-cp310-manylinux_2_28_x86_64.whl.metadata (26 kB)\n",
            "Requirement already satisfied: requests in /usr/local/lib/python3.10/dist-packages (from pennylane) (2.32.3)\n",
            "Requirement already satisfied: typing-extensions in /usr/local/lib/python3.10/dist-packages (from pennylane) (4.12.2)\n",
            "Requirement already satisfied: packaging in /usr/local/lib/python3.10/dist-packages (from pennylane) (24.1)\n",
            "Requirement already satisfied: charset-normalizer<4,>=2 in /usr/local/lib/python3.10/dist-packages (from requests->pennylane) (3.4.0)\n",
            "Requirement already satisfied: idna<4,>=2.5 in /usr/local/lib/python3.10/dist-packages (from requests->pennylane) (3.10)\n",
            "Requirement already satisfied: urllib3<3,>=1.21.1 in /usr/local/lib/python3.10/dist-packages (from requests->pennylane) (2.2.3)\n",
            "Requirement already satisfied: certifi>=2017.4.17 in /usr/local/lib/python3.10/dist-packages (from requests->pennylane) (2024.8.30)\n",
            "Downloading PennyLane-0.38.0-py3-none-any.whl (1.9 MB)\n",
            "\u001b[2K   \u001b[90m━━━━━━━━━━━━━━━━━━━━━━━━━━━━━━━━━━━━━━━━\u001b[0m \u001b[32m1.9/1.9 MB\u001b[0m \u001b[31m21.8 MB/s\u001b[0m eta \u001b[36m0:00:00\u001b[0m\n",
            "\u001b[?25hDownloading autoray-0.6.12-py3-none-any.whl (50 kB)\n",
            "\u001b[2K   \u001b[90m━━━━━━━━━━━━━━━━━━━━━━━━━━━━━━━━━━━━━━━━\u001b[0m \u001b[32m51.0/51.0 kB\u001b[0m \u001b[31m2.9 MB/s\u001b[0m eta \u001b[36m0:00:00\u001b[0m\n",
            "\u001b[?25hDownloading PennyLane_Lightning-0.38.0-cp310-cp310-manylinux_2_28_x86_64.whl (15.3 MB)\n",
            "\u001b[2K   \u001b[90m━━━━━━━━━━━━━━━━━━━━━━━━━━━━━━━━━━━━━━━━\u001b[0m \u001b[32m15.3/15.3 MB\u001b[0m \u001b[31m60.4 MB/s\u001b[0m eta \u001b[36m0:00:00\u001b[0m\n",
            "\u001b[?25hDownloading rustworkx-0.15.1-cp38-abi3-manylinux_2_17_x86_64.manylinux2014_x86_64.whl (2.0 MB)\n",
            "\u001b[2K   \u001b[90m━━━━━━━━━━━━━━━━━━━━━━━━━━━━━━━━━━━━━━━━\u001b[0m \u001b[32m2.0/2.0 MB\u001b[0m \u001b[31m52.1 MB/s\u001b[0m eta \u001b[36m0:00:00\u001b[0m\n",
            "\u001b[?25hDownloading appdirs-1.4.4-py2.py3-none-any.whl (9.6 kB)\n",
            "Installing collected packages: appdirs, rustworkx, autoray, pennylane-lightning, pennylane\n",
            "Successfully installed appdirs-1.4.4 autoray-0.6.12 pennylane-0.38.0 pennylane-lightning-0.38.0 rustworkx-0.15.1\n",
            "Collecting pyscf\n",
            "  Downloading pyscf-2.7.0-py3-none-manylinux_2_17_x86_64.manylinux2014_x86_64.whl.metadata (6.2 kB)\n",
            "Requirement already satisfied: numpy!=1.16,!=1.17,>=1.13 in /usr/local/lib/python3.10/dist-packages (from pyscf) (1.26.4)\n",
            "Requirement already satisfied: scipy>=1.6.0 in /usr/local/lib/python3.10/dist-packages (from pyscf) (1.13.1)\n",
            "Requirement already satisfied: h5py>=2.7 in /usr/local/lib/python3.10/dist-packages (from pyscf) (3.11.0)\n",
            "Requirement already satisfied: setuptools in /usr/local/lib/python3.10/dist-packages (from pyscf) (71.0.4)\n",
            "Downloading pyscf-2.7.0-py3-none-manylinux_2_17_x86_64.manylinux2014_x86_64.whl (48.7 MB)\n",
            "\u001b[2K   \u001b[90m━━━━━━━━━━━━━━━━━━━━━━━━━━━━━━━━━━━━━━━━\u001b[0m \u001b[32m48.7/48.7 MB\u001b[0m \u001b[31m11.1 MB/s\u001b[0m eta \u001b[36m0:00:00\u001b[0m\n",
            "\u001b[?25hInstalling collected packages: pyscf\n",
            "Successfully installed pyscf-2.7.0\n"
          ]
        }
      ],
      "source": [
        "!pip install pennylane\n",
        "!pip install pyscf"
      ]
    },
    {
      "cell_type": "code",
      "source": [
        "import pennylane as qml\n",
        "from pennylane import numpy as pnp\n",
        "import matplotlib.pyplot as plt\n",
        "import pyscf"
      ],
      "metadata": {
        "id": "84cT85T77WwJ"
      },
      "execution_count": null,
      "outputs": []
    },
    {
      "cell_type": "markdown",
      "source": [
        "# 2 a)\n"
      ],
      "metadata": {
        "id": "ssMT074X7Yg2"
      }
    },
    {
      "cell_type": "code",
      "source": [
        "def mol(x1,y1,z1,x2,y2,z2):\n",
        "\n",
        "  mol= pyscf.M(atom=[[\"H\", (x1, y1, z1)],[\"H\", (x2, y2, z2)]])\n",
        "  myhf = mol.HF.run()\n",
        "  myci = myhf.CISD().run()\n",
        "\n",
        "  # Import the initial state into PennyLane\n",
        "  wf_cisd = qml.qchem.import_state(myci, tol=1e-1)\n",
        "\n",
        "  symbols = [\"H\", \"H\"]\n",
        "\n",
        "  geometry = pnp.array([[x1/0.529, y1/0.529, z1/0.529], [x2/0.529, y2/0.529, z2/0.529]])\n",
        "  molecule = qml.qchem.Molecule(symbols, geometry, charge = 0)\n",
        "  H2mol, qubits = qml.qchem.molecular_hamiltonian(molecule)\n",
        "  wires = list(range(qubits))\n",
        "\n",
        "\n",
        "  electrons = 2\n",
        "  orbitals = qubits\n",
        "\n",
        "  # Create all possible excitations in H3+\n",
        "  singles, doubles = qml.qchem.excitations(electrons, orbitals)\n",
        "  #combine all the the possible excitations\n",
        "  excitations = singles + doubles\n",
        "\n",
        "  dev = qml.device(\"default.qubit\", wires=qubits)\n",
        "  @qml.qnode(dev)\n",
        "  def circuit_VQE(theta, initial_state):\n",
        "      qml.StatePrep(initial_state, wires=wires)\n",
        "      #construct ansatze\n",
        "      for i, excitation in enumerate(excitations):\n",
        "        #if excitation corresponds to a Double excitation, apply a Double Excitation Givens rotation\n",
        "        if len(excitation) == 4:\n",
        "             qml.DoubleExcitation(theta[i], wires=excitation)\n",
        "        #otherwise, apply a Single Excitation Givens rotation\n",
        "        else:\n",
        "            qml.SingleExcitation(theta[i], wires=excitation)\n",
        "\n",
        "      return qml.expval(H2mol)\n",
        "\n",
        "  opt = qml.GradientDescentOptimizer(stepsize=0.4)\n",
        "  theta = pnp.array(pnp.zeros(len(excitations)), requires_grad=True)\n",
        "  #Draw circuit\n",
        "  qml.draw_mpl(circuit_VQE)( theta, initial_state=wf_cisd);\n",
        "  delta_E = 10\n",
        "  tol = 1e-9\n",
        "# run the VQE optimization loop until convergence threshold is reached\n",
        "  while abs(delta_E) > tol:\n",
        "    theta, prev_energy = opt.step_and_cost(circuit_VQE, theta, initial_state=wf_cisd)\n",
        "    new_energy = circuit_VQE(theta, initial_state=wf_cisd)\n",
        "    delta_E = new_energy - prev_energy\n",
        "  return new_energy"
      ],
      "metadata": {
        "id": "y8muAi8t70cg"
      },
      "execution_count": null,
      "outputs": []
    },
    {
      "cell_type": "markdown",
      "source": [
        "# 2b)"
      ],
      "metadata": {
        "id": "1x5Rr1N08Zpi"
      }
    },
    {
      "cell_type": "code",
      "source": [
        "\n",
        "def ground_Ising(h):\n",
        "  #defining the interaction term sum Z_iZ_i+1#\n",
        "  O1=0\n",
        "  for i in range(3):\n",
        "     O1+= qml.Z(i) @ qml.Z(i+1)\n",
        "  O1 += qml.Z(3) @ qml.Z(0)\n",
        "  #defining the linear term sum X_i#\n",
        "  O2=0\n",
        "  for i in range(4):\n",
        "     O2+= qml.X(i)\n",
        "  O2 =h*O2\n",
        "  #defining the given hamiltonian#\n",
        "  coeffs = [-1, -1]\n",
        "  obs = [O1, O2]\n",
        "  H = qml.Hamiltonian(coeffs, obs)\n",
        "\n",
        "  #defines the circuit used to VQE#\n",
        "  dev = qml.device(\"default.qubit\", 4)\n",
        "  @qml.qnode(dev)\n",
        "  def circuitb(theta):\n",
        "    for i in range(4):\n",
        "       qml.Hadamard(wires=i)\n",
        "       qml.RZ(theta[i], wires=i)\n",
        "       qml.RX(theta[i+4], wires=i)\n",
        "    #introducing controlled gates to allow quantum correlations#\n",
        "    for i in range(3):\n",
        "      qml.CNOT(wires=[i, i+1])\n",
        "    qml.CNOT(wires=[3,0])\n",
        "    return qml.expval(H)\n",
        "\n",
        "\n",
        "  opt = qml.GradientDescentOptimizer(stepsize=0.04)\n",
        "  theta = pnp.array([0.1,0.1,0.1,0.1,0.1,0.1, 0.1,0.1], requires_grad=True)\n",
        "  #Draw circuit\n",
        "  qml.draw_mpl(circuitb)(theta);\n",
        "  delta_E = 10\n",
        "  tol = 1e-4\n",
        "  # run the VQE optimization loop until convergence threshold is reached\n",
        "  while abs(delta_E) > tol:\n",
        "    theta, prev_energy = opt.step_and_cost(circuitb, theta)\n",
        "    new_energy = circuitb(theta)\n",
        "    delta_E = new_energy - prev_energy\n",
        "\n",
        "  return new_energy\n"
      ],
      "metadata": {
        "id": "WbkAU5uZ8cKs"
      },
      "execution_count": null,
      "outputs": []
    },
    {
      "cell_type": "markdown",
      "source": [
        "# 2c)"
      ],
      "metadata": {
        "id": "QnKXR5eWGO-I"
      }
    },
    {
      "cell_type": "code",
      "source": [
        "dev = qml.device(\"default.qubit\", wires=5)\n",
        "@qml.qnode(dev)\n",
        "#calculates the probability of measuring the state |x,y> for a evolution of H= a X@X + b Z@Z, for a given time t and n trotter steps\n",
        "def circuit_c(a,b,t,n,x,y):\n",
        "  #loop to aplly all trotter steps\n",
        "\n",
        "  for i in range(n):\n",
        "    #add the evolution of exp(-ibtZ@Z/n)\n",
        "    qml.CNOT(wires=[1,2])\n",
        "    qml.RZ(-b*t/n,wires=[2])\n",
        "    qml.CNOT(wires=[1,2])\n",
        "    #add the evolution of exp(-iatX@X/n)\n",
        "    qml.Hadamard(1)\n",
        "    qml.Hadamard(2)\n",
        "    qml.CNOT(wires=[1,2])\n",
        "    qml.RZ(-a*t/n,wires=[2])\n",
        "    qml.CNOT(wires=[1,2])\n",
        "    qml.Hadamard(1)\n",
        "    qml.Hadamard(2)\n",
        "   #add gates to realize swap test for the evolved state with the computational basis\n",
        "  if x==1:\n",
        "      qml.X(3)\n",
        "\n",
        "  if y==1:\n",
        "      qml.X(4)\n",
        "\n",
        "  qml.Hadamard(wires=0)\n",
        "  for i in range(2):\n",
        "      qml.CSWAP(wires=[0, 1 + i, i+3 ])\n",
        "  qml.Hadamard(wires=0)\n",
        "\n",
        "  return qml.expval(qml.Z(0))\n",
        "\n",
        "#function to give all probabilities at once\n",
        "def c2(a,b,t,n):\n",
        "  return circuit_c(a,b,t,n,0,0), circuit_c(a,b,t,n,1,0), circuit_c(a,b,t,n,0,1), circuit_c(a,b,t,n,1,1)"
      ],
      "metadata": {
        "id": "eLHvx-Z7GNZS"
      },
      "execution_count": null,
      "outputs": []
    }
  ]
}