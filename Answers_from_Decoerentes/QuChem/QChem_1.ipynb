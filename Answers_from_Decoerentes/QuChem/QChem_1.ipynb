{
  "nbformat": 4,
  "nbformat_minor": 0,
  "metadata": {
    "colab": {
      "provenance": []
    },
    "kernelspec": {
      "name": "python3",
      "display_name": "Python 3"
    },
    "language_info": {
      "name": "python"
    }
  },
  "cells": [
    {
      "cell_type": "markdown",
      "source": [
        "# Decoerentes' solution to the first question of quantum chemistry\n",
        "\n",
        "Decoerentes' team - Alisson, Bruno, Carlos, Gabriel, Miguel and Paulo"
      ],
      "metadata": {
        "id": "c1hjRSHbzv6b"
      }
    },
    {
      "cell_type": "markdown",
      "source": [
        "#Imports"
      ],
      "metadata": {
        "id": "poRqS6TvO5jk"
      }
    },
    {
      "cell_type": "code",
      "execution_count": null,
      "metadata": {
        "id": "Pr1cmvfjN8Pa",
        "colab": {
          "base_uri": "https://localhost:8080/"
        },
        "collapsed": true,
        "outputId": "3b43cd63-e697-47be-f135-fab817afc8d2"
      },
      "outputs": [
        {
          "output_type": "stream",
          "name": "stdout",
          "text": [
            "Requirement already satisfied: numpy in /usr/local/lib/python3.10/dist-packages (1.26.4)\n",
            "Requirement already satisfied: pandas in /usr/local/lib/python3.10/dist-packages (2.2.2)\n",
            "Requirement already satisfied: matplotlib in /usr/local/lib/python3.10/dist-packages (3.7.1)\n",
            "Requirement already satisfied: pennylane in /usr/local/lib/python3.10/dist-packages (0.38.0)\n",
            "Requirement already satisfied: python-dateutil>=2.8.2 in /usr/local/lib/python3.10/dist-packages (from pandas) (2.8.2)\n",
            "Requirement already satisfied: pytz>=2020.1 in /usr/local/lib/python3.10/dist-packages (from pandas) (2024.2)\n",
            "Requirement already satisfied: tzdata>=2022.7 in /usr/local/lib/python3.10/dist-packages (from pandas) (2024.2)\n",
            "Requirement already satisfied: contourpy>=1.0.1 in /usr/local/lib/python3.10/dist-packages (from matplotlib) (1.3.0)\n",
            "Requirement already satisfied: cycler>=0.10 in /usr/local/lib/python3.10/dist-packages (from matplotlib) (0.12.1)\n",
            "Requirement already satisfied: fonttools>=4.22.0 in /usr/local/lib/python3.10/dist-packages (from matplotlib) (4.54.1)\n",
            "Requirement already satisfied: kiwisolver>=1.0.1 in /usr/local/lib/python3.10/dist-packages (from matplotlib) (1.4.7)\n",
            "Requirement already satisfied: packaging>=20.0 in /usr/local/lib/python3.10/dist-packages (from matplotlib) (24.1)\n",
            "Requirement already satisfied: pillow>=6.2.0 in /usr/local/lib/python3.10/dist-packages (from matplotlib) (10.4.0)\n",
            "Requirement already satisfied: pyparsing>=2.3.1 in /usr/local/lib/python3.10/dist-packages (from matplotlib) (3.1.4)\n",
            "Requirement already satisfied: scipy in /usr/local/lib/python3.10/dist-packages (from pennylane) (1.13.1)\n",
            "Requirement already satisfied: networkx in /usr/local/lib/python3.10/dist-packages (from pennylane) (3.4)\n",
            "Requirement already satisfied: rustworkx>=0.14.0 in /usr/local/lib/python3.10/dist-packages (from pennylane) (0.15.1)\n",
            "Requirement already satisfied: autograd in /usr/local/lib/python3.10/dist-packages (from pennylane) (1.7.0)\n",
            "Requirement already satisfied: toml in /usr/local/lib/python3.10/dist-packages (from pennylane) (0.10.2)\n",
            "Requirement already satisfied: appdirs in /usr/local/lib/python3.10/dist-packages (from pennylane) (1.4.4)\n",
            "Requirement already satisfied: autoray>=0.6.11 in /usr/local/lib/python3.10/dist-packages (from pennylane) (0.6.12)\n",
            "Requirement already satisfied: cachetools in /usr/local/lib/python3.10/dist-packages (from pennylane) (5.5.0)\n",
            "Requirement already satisfied: pennylane-lightning>=0.38 in /usr/local/lib/python3.10/dist-packages (from pennylane) (0.38.0)\n",
            "Requirement already satisfied: requests in /usr/local/lib/python3.10/dist-packages (from pennylane) (2.32.3)\n",
            "Requirement already satisfied: typing-extensions in /usr/local/lib/python3.10/dist-packages (from pennylane) (4.12.2)\n",
            "Requirement already satisfied: six>=1.5 in /usr/local/lib/python3.10/dist-packages (from python-dateutil>=2.8.2->pandas) (1.16.0)\n",
            "Requirement already satisfied: charset-normalizer<4,>=2 in /usr/local/lib/python3.10/dist-packages (from requests->pennylane) (3.4.0)\n",
            "Requirement already satisfied: idna<4,>=2.5 in /usr/local/lib/python3.10/dist-packages (from requests->pennylane) (3.10)\n",
            "Requirement already satisfied: urllib3<3,>=1.21.1 in /usr/local/lib/python3.10/dist-packages (from requests->pennylane) (2.2.3)\n",
            "Requirement already satisfied: certifi>=2017.4.17 in /usr/local/lib/python3.10/dist-packages (from requests->pennylane) (2024.8.30)\n"
          ]
        }
      ],
      "source": [
        "import sys\n",
        "!{sys.executable} -m pip install numpy pandas matplotlib pennylane"
      ]
    },
    {
      "cell_type": "code",
      "source": [
        "import pennylane as qml\n",
        "from pennylane import numpy as np\n",
        "import matplotlib.pyplot as plt\n",
        "from pennylane import qchem"
      ],
      "metadata": {
        "id": "XTz2E7PkSzpt"
      },
      "execution_count": null,
      "outputs": []
    },
    {
      "cell_type": "markdown",
      "source": [
        "#Exercise 1.1"
      ],
      "metadata": {
        "id": "UdJ0pA93PM5R"
      }
    },
    {
      "cell_type": "code",
      "source": [
        "def hamiltonian(n: int):\n",
        "    \"\"\"Defines the Hamiltonian K for a given number of qubits n.\"\"\"\n",
        "    # Use PBF lists with append in order gain time efficiency\n",
        "    coeffs = []\n",
        "    observables = []\n",
        "\n",
        "    # The first term: (1/3) * sum_{i < j} X_i X_j\n",
        "    for i in range(n):\n",
        "        for j in range(i + 1, n):\n",
        "            coeffs.append(1/3)\n",
        "            observables.append(qml.PauliX(i) @ qml.PauliX(j))\n",
        "\n",
        "    # The second term: -sum_{i=0}^{n-1} Z_i\n",
        "    for i in range(n):\n",
        "        coeffs.append(-1)\n",
        "        observables.append(qml.PauliZ(i))\n",
        "\n",
        "    return qml.Hamiltonian(coeffs, observables)"
      ],
      "metadata": {
        "id": "Az-Sw9vBS2KH"
      },
      "execution_count": null,
      "outputs": []
    },
    {
      "cell_type": "code",
      "source": [
        "def expectation_value_hamiltonian(n: int):\n",
        "    \"\"\"Simulates the circuit and returns the expectation value of K for ket PSI.\"\"\"\n",
        "    dev = qml.device(\"default.qubit\", wires=n)\n",
        "\n",
        "    @qml.qnode(dev)\n",
        "    def circuit():\n",
        "        # Prepare initial state |0⟩^(X)n, and apply Hadamard gates\n",
        "        for i in range(n):\n",
        "            qml.Hadamard(wires=i)\n",
        "\n",
        "        # Return the expectation value of the Hamiltonian\n",
        "        return qml.expval(hamiltonian(n))\n",
        "\n",
        "    # Calculate and return the expectation value\n",
        "    return circuit()"
      ],
      "metadata": {
        "id": "9C0GjJPhS3sh"
      },
      "execution_count": null,
      "outputs": []
    },
    {
      "cell_type": "code",
      "source": [
        "n_qubits = 3\n",
        "expectation_value = expectation_value_hamiltonian(n_qubits)\n",
        "print(f\"Expectation value of the Hamiltonian for {n_qubits} qubits: {expectation_value}\")"
      ],
      "metadata": {
        "colab": {
          "base_uri": "https://localhost:8080/"
        },
        "id": "GpoBzRa-S61R",
        "outputId": "cd2d3392-a632-474c-ced2-6dd56fee9d63"
      },
      "execution_count": null,
      "outputs": [
        {
          "output_type": "stream",
          "name": "stdout",
          "text": [
            "Expectation value of the Hamiltonian for 3 qubits: 0.9999999999999991\n"
          ]
        }
      ]
    },
    {
      "cell_type": "markdown",
      "source": [
        "#Exercise 1.2.a"
      ],
      "metadata": {
        "id": "fDQjCItFTVrQ"
      }
    },
    {
      "cell_type": "code",
      "source": [
        "def ground_state_energy_h2(coords: list):\n",
        "    \"\"\"\n",
        "    Function to compute the ground state energy of an H2 molecule using VQE.\n",
        "    Takes a 6-element array representing the x, y, z coordinates of two hydrogen atoms.\n",
        "    \"\"\"\n",
        "    symbols = [\"H\", \"H\"]\n",
        "    # Use the input coordinates to define the molecule's geometry\n",
        "    geometry = np.reshape(coords, (2, 3))  # Reshape the 6-element array into 2x3\n",
        "\n",
        "    # Step 1: Define the molecule with qchem.molecule and set charge=0, multiplicity=1\n",
        "    mol = qchem.Molecule(symbols, geometry, charge=0, mult=1, basis_name=\"sto-3g\")\n",
        "\n",
        "    # Step 2: Construct the electronic Hamiltonian using Jordan-Wigner transformation\n",
        "    hamiltonian, qubits = qchem.molecular_hamiltonian(symbols, geometry, basis=\"sto-3g\")\n",
        "\n",
        "    # Step 3: Define a device\n",
        "    dev = qml.device(\"default.qubit\", wires=qubits)\n",
        "\n",
        "    # Step 4: Set up a variational quantum circuit for VQE\n",
        "    def ansatz(params):\n",
        "        qml.BasisState(np.array([1, 1]), wires=[0, 1])\n",
        "        qml.RY(params[0], wires=0)\n",
        "        qml.RX(params[1], wires=1)\n",
        "\n",
        "    # Step 5: Use PennyLane's VQE solver\n",
        "    opt = qml.GradientDescentOptimizer()\n",
        "    params = np.random.random(2)  # Random initial parameters for the ansatz\n",
        "\n",
        "    # Define the cost function for optimization\n",
        "    @qml.qnode(dev)\n",
        "    def cost_fn(params):\n",
        "        ansatz(params)\n",
        "        return qml.expval(hamiltonian)\n",
        "\n",
        "    # Step 6: Perform optimization\n",
        "    max_iterations = 1000\n",
        "    for i in range(max_iterations):\n",
        "        params, energy = opt.step_and_cost(cost_fn, params)\n",
        "\n",
        "    return energy\n"
      ],
      "metadata": {
        "id": "hs1ey_RETqyY"
      },
      "execution_count": null,
      "outputs": []
    },
    {
      "cell_type": "code",
      "source": [
        "coords = np.array([0.0, 0.0, 0.0, 0.0, 0.0, 1.0])  #Geometry for H2\n",
        "energy = ground_state_energy_h2(coords)\n",
        "print(f\"Ground state energy: {energy} Hartrees\")"
      ],
      "metadata": {
        "colab": {
          "base_uri": "https://localhost:8080/"
        },
        "id": "H_zVAfNFX0qB",
        "outputId": "8f901e07-bd21-457c-e17f-534cab659b7a"
      },
      "execution_count": null,
      "outputs": [
        {
          "output_type": "stream",
          "name": "stdout",
          "text": [
            "Ground state energy: -1.0659096235252643 Hartrees\n"
          ]
        }
      ]
    },
    {
      "cell_type": "markdown",
      "source": [
        "# Exercise 1.2.b"
      ],
      "metadata": {
        "id": "_5Wo2YCxdGrm"
      }
    },
    {
      "cell_type": "code",
      "source": [
        "def ising_hamiltonian(N: int, h: float):\n",
        "    \"\"\"Constructs the Ising Hamiltonian for N spins and field intensity h.\"\"\"\n",
        "    coeffs = []\n",
        "    observables = []\n",
        "\n",
        "    # First term: -sum Z_i Z_{i+1}\n",
        "    for i in range(N - 1):\n",
        "        coeffs.append(-1)\n",
        "        observables.append(qml.PauliZ(i) @ qml.PauliZ(i + 1))\n",
        "\n",
        "    # Second term: -h * sum X_i\n",
        "    for i in range(N):\n",
        "        coeffs.append(-h)\n",
        "        observables.append(qml.PauliX(i))\n",
        "\n",
        "    return qml.Hamiltonian(coeffs, observables)"
      ],
      "metadata": {
        "id": "5Np3AXnddFEo"
      },
      "execution_count": null,
      "outputs": []
    },
    {
      "cell_type": "code",
      "source": [
        "def vqe_spin_chain(N: int, h: float):\n",
        "    \"\"\"Function to compute ground state energy of spin chain using VQE.\"\"\"\n",
        "    dev = qml.device(\"default.qubit\", wires=N)\n",
        "\n",
        "    @qml.qnode(dev)\n",
        "    def circuit(params: list):\n",
        "        for i in range(N):\n",
        "            qml.Hadamard(wires=i)\n",
        "        qml.broadcast(qml.RY, wires=range(N), pattern=\"single\", parameters=params)\n",
        "        return qml.expval(ising_hamiltonian(N, h))\n",
        "\n",
        "    # Initializing parameters for the variational ansatz\n",
        "    params = np.random.random(N)\n",
        "    opt = qml.GradientDescentOptimizer()\n",
        "\n",
        "    # Optimization loop\n",
        "    for i in range(100):\n",
        "        params, energy = opt.step_and_cost(circuit, params)\n",
        "\n",
        "    return energy"
      ],
      "metadata": {
        "id": "CF1NSzz6dSqR"
      },
      "execution_count": null,
      "outputs": []
    },
    {
      "cell_type": "code",
      "source": [
        "N = 4\n",
        "h = 1.0\n",
        "energy = vqe_spin_chain(N, h)\n",
        "print(f\"Ground state energy for Ising chain with N={N}, h={h}: {energy}\")"
      ],
      "metadata": {
        "colab": {
          "base_uri": "https://localhost:8080/"
        },
        "id": "gCpLPZDJP8rP",
        "outputId": "d78381f7-f753-4461-eaa5-26b2c6ccb38f"
      },
      "execution_count": null,
      "outputs": [
        {
          "output_type": "stream",
          "name": "stdout",
          "text": [
            "Ground state energy for Ising chain with N=4, h=1.0: -4.203742907267461\n"
          ]
        }
      ]
    },
    {
      "cell_type": "markdown",
      "source": [
        "#Exercise 1.2.c"
      ],
      "metadata": {
        "id": "bCfBskppdc47"
      }
    },
    {
      "cell_type": "code",
      "source": [
        "def time_evolution_trotter(a, b, t, n):\n",
        "    \"\"\"Function to apply Trotterized time evolution to the initial state ket 00.\"\"\"\n",
        "    dev = qml.device('default.qubit', wires=2)\n",
        "\n",
        "    def apply_h1(dt):\n",
        "        \"\"\"Applies the time evolution for H1 = a X0 X1.\"\"\"\n",
        "        # Controlled-X rotation (CNOT + rotations)\n",
        "        qml.CNOT(wires=[0, 1])\n",
        "        qml.RX(2 * a * dt, wires=1)\n",
        "        qml.CNOT(wires=[0, 1])\n",
        "\n",
        "    def apply_h2(dt):\n",
        "        \"\"\"Applies the time evolution for H2 = b Z0 Z1.\"\"\"\n",
        "        # Z0 Z1 is diagonal, so we can directly apply exp(-i b dt Z0 Z1)\n",
        "        qml.CNOT(wires=[0, 1])\n",
        "        qml.RZ(2 * b * dt, wires=1)\n",
        "        qml.CNOT(wires=[0, 1])\n",
        "\n",
        "    @qml.qnode(dev)\n",
        "    def circuit():\n",
        "        qml.BasisState(np.array([0, 0]), wires=[0, 1])\n",
        "\n",
        "        # Perform Trotterized time evolution\n",
        "        dt = t / n\n",
        "        for _ in range(n):\n",
        "            apply_h1(dt)\n",
        "            apply_h2(dt)\n",
        "\n",
        "        # Return the probabilities of the computational basis states\n",
        "        return qml.probs(wires=[0, 1])\n",
        "\n",
        "    # Execute the circuit\n",
        "    return circuit()"
      ],
      "metadata": {
        "id": "8cfJS_Qah0Di"
      },
      "execution_count": null,
      "outputs": []
    },
    {
      "cell_type": "code",
      "source": [
        "# Example parameters\n",
        "a = 1.0  # Coefficient for X0 X1 term\n",
        "b = 1.0  # Coefficient for Z0 Z1 term\n",
        "t = 1.0  # Total time of evolution\n",
        "n = 10   # Number of Trotter steps\n",
        "\n",
        "# Call the function to simulate and get the probabilities\n",
        "probs = time_evolution_trotter(a, b, t, n)\n",
        "print(f\"Probabilities of states |00⟩, |01⟩, |10⟩, |11⟩: {probs}\")"
      ],
      "metadata": {
        "colab": {
          "base_uri": "https://localhost:8080/"
        },
        "id": "UOS6f4_6h0pH",
        "outputId": "12472cda-2b02-4538-cb6f-b1252cb6f45a"
      },
      "execution_count": null,
      "outputs": [
        {
          "output_type": "stream",
          "name": "stdout",
          "text": [
            "Probabilities of states |00⟩, |01⟩, |10⟩, |11⟩: [0.50989939 0.49010061 0.         0.        ]\n"
          ]
        }
      ]
    }
  ]
}